{
  "cells": [
    {
      "cell_type": "markdown",
      "metadata": {
        "id": "Ki0EQmD1nF3K"
      },
      "source": [
        "# Лабораторная работа №3\n",
        "## Методы машинного обучения и оптимизация гиперпараметров\n",
        "### Крижановская Анна, группа М8О-109СВ-24\n"
      ]
    },
    {
      "cell_type": "markdown",
      "metadata": {
        "id": "JBdF6mNAnF3L"
      },
      "source": [
        "## Установка зависимостей"
      ]
    },
    {
      "cell_type": "code",
      "execution_count": 4,
      "metadata": {
        "colab": {
          "base_uri": "https://localhost:8080/"
        },
        "id": "FFCiZqP-nF3L",
        "outputId": "dbb36692-dbd4-4e72-e426-0dab437002b9"
      },
      "outputs": [
        {
          "output_type": "stream",
          "name": "stdout",
          "text": [
            "\u001b[33m\r0% [Working]\u001b[0m\r            \rHit:1 http://security.ubuntu.com/ubuntu jammy-security InRelease\n",
            "Hit:2 https://cloud.r-project.org/bin/linux/ubuntu jammy-cran40/ InRelease\n",
            "Hit:3 http://archive.ubuntu.com/ubuntu jammy InRelease\n",
            "Hit:4 https://developer.download.nvidia.com/compute/cuda/repos/ubuntu2204/x86_64  InRelease\n",
            "Hit:5 http://archive.ubuntu.com/ubuntu jammy-updates InRelease\n",
            "Hit:6 http://archive.ubuntu.com/ubuntu jammy-backports InRelease\n",
            "Hit:7 https://r2u.stat.illinois.edu/ubuntu jammy InRelease\n",
            "Hit:8 https://ppa.launchpadcontent.net/deadsnakes/ppa/ubuntu jammy InRelease\n",
            "Hit:9 https://ppa.launchpadcontent.net/graphics-drivers/ppa/ubuntu jammy InRelease\n",
            "Hit:10 https://ppa.launchpadcontent.net/ubuntugis/ppa/ubuntu jammy InRelease\n",
            "Reading package lists... Done\n",
            "Building dependency tree... Done\n",
            "Reading state information... Done\n",
            "31 packages can be upgraded. Run 'apt list --upgradable' to see them.\n",
            "\u001b[1;33mW: \u001b[0mSkipping acquire of configured file 'main/source/Sources' as repository 'https://r2u.stat.illinois.edu/ubuntu jammy InRelease' does not seem to provide it (sources.list entry misspelt?)\u001b[0m\n",
            "Reading package lists... Done\n",
            "Building dependency tree... Done\n",
            "Reading state information... Done\n",
            "postgresql is already the newest version (14+238).\n",
            "postgresql-contrib is already the newest version (14+238).\n",
            "0 upgraded, 0 newly installed, 0 to remove and 31 not upgraded.\n",
            "Collecting optuna\n",
            "  Downloading optuna-4.2.1-py3-none-any.whl.metadata (17 kB)\n",
            "Collecting alembic>=1.5.0 (from optuna)\n",
            "  Downloading alembic-1.14.1-py3-none-any.whl.metadata (7.4 kB)\n",
            "Collecting colorlog (from optuna)\n",
            "  Downloading colorlog-6.9.0-py3-none-any.whl.metadata (10 kB)\n",
            "Requirement already satisfied: numpy in /usr/local/lib/python3.11/dist-packages (from optuna) (1.26.4)\n",
            "Requirement already satisfied: packaging>=20.0 in /usr/local/lib/python3.11/dist-packages (from optuna) (24.2)\n",
            "Requirement already satisfied: sqlalchemy>=1.4.2 in /usr/local/lib/python3.11/dist-packages (from optuna) (2.0.38)\n",
            "Requirement already satisfied: tqdm in /usr/local/lib/python3.11/dist-packages (from optuna) (4.67.1)\n",
            "Requirement already satisfied: PyYAML in /usr/local/lib/python3.11/dist-packages (from optuna) (6.0.2)\n",
            "Collecting Mako (from alembic>=1.5.0->optuna)\n",
            "  Downloading Mako-1.3.9-py3-none-any.whl.metadata (2.9 kB)\n",
            "Requirement already satisfied: typing-extensions>=4 in /usr/local/lib/python3.11/dist-packages (from alembic>=1.5.0->optuna) (4.12.2)\n",
            "Requirement already satisfied: greenlet!=0.4.17 in /usr/local/lib/python3.11/dist-packages (from sqlalchemy>=1.4.2->optuna) (3.1.1)\n",
            "Requirement already satisfied: MarkupSafe>=0.9.2 in /usr/local/lib/python3.11/dist-packages (from Mako->alembic>=1.5.0->optuna) (3.0.2)\n",
            "Downloading optuna-4.2.1-py3-none-any.whl (383 kB)\n",
            "\u001b[2K   \u001b[90m━━━━━━━━━━━━━━━━━━━━━━━━━━━━━━━━━━━━━━━━\u001b[0m \u001b[32m383.6/383.6 kB\u001b[0m \u001b[31m5.7 MB/s\u001b[0m eta \u001b[36m0:00:00\u001b[0m\n",
            "\u001b[?25hDownloading alembic-1.14.1-py3-none-any.whl (233 kB)\n",
            "\u001b[2K   \u001b[90m━━━━━━━━━━━━━━━━━━━━━━━━━━━━━━━━━━━━━━━━\u001b[0m \u001b[32m233.6/233.6 kB\u001b[0m \u001b[31m13.7 MB/s\u001b[0m eta \u001b[36m0:00:00\u001b[0m\n",
            "\u001b[?25hDownloading colorlog-6.9.0-py3-none-any.whl (11 kB)\n",
            "Downloading Mako-1.3.9-py3-none-any.whl (78 kB)\n",
            "\u001b[2K   \u001b[90m━━━━━━━━━━━━━━━━━━━━━━━━━━━━━━━━━━━━━━━━\u001b[0m \u001b[32m78.5/78.5 kB\u001b[0m \u001b[31m4.7 MB/s\u001b[0m eta \u001b[36m0:00:00\u001b[0m\n",
            "\u001b[?25hInstalling collected packages: Mako, colorlog, alembic, optuna\n",
            "Successfully installed Mako-1.3.9 alembic-1.14.1 colorlog-6.9.0 optuna-4.2.1\n"
          ]
        }
      ],
      "source": [
        "!sudo apt update\n",
        "!sudo apt install postgresql postgresql-contrib -y\n",
        "!pip install optuna"
      ]
    },
    {
      "cell_type": "markdown",
      "metadata": {
        "id": "RRtgPZaJnF3M"
      },
      "source": [
        "## Подключение библиотек"
      ]
    },
    {
      "cell_type": "code",
      "execution_count": 5,
      "metadata": {
        "id": "7-IO1ZBInF3M"
      },
      "outputs": [],
      "source": [
        "import numpy as np\n",
        "import pandas as pd\n",
        "from sklearn.model_selection import train_test_split\n",
        "from sklearn.svm import SVC\n",
        "from sklearn.metrics import accuracy_score, classification_report\n",
        "from sklearn.ensemble import GradientBoostingClassifier\n",
        "import optuna"
      ]
    },
    {
      "cell_type": "markdown",
      "metadata": {
        "id": "GKFx2kMknF3M"
      },
      "source": [
        "## Подготовка данных\n",
        "Имитация работы с данными из PostgreSQL"
      ]
    },
    {
      "cell_type": "code",
      "execution_count": 6,
      "metadata": {
        "id": "yixki18nnF3M"
      },
      "outputs": [],
      "source": [
        "# Создаем синтетические данные\n",
        "np.random.seed(42)\n",
        "X = np.random.rand(1000, 10)\n",
        "y = np.random.randint(0, 2, 1000)\n",
        "\n",
        "# Разделяем на обучающую и тестовую выборки\n",
        "X_train, X_test, y_train, y_test = train_test_split(X, y, test_size=0.2, random_state=42)"
      ]
    },
    {
      "cell_type": "markdown",
      "metadata": {
        "id": "abZ-2goPnF3M"
      },
      "source": [
        "## Обучение SVC с RBF-ядром"
      ]
    },
    {
      "cell_type": "code",
      "execution_count": 7,
      "metadata": {
        "colab": {
          "base_uri": "https://localhost:8080/"
        },
        "id": "QeUzWb-FnF3M",
        "outputId": "357211c2-55eb-4d0b-a3b8-34055cbf0a96"
      },
      "outputs": [
        {
          "output_type": "stream",
          "name": "stdout",
          "text": [
            "SVC Accuracy: 0.555\n",
            "Classification Report:\n",
            "               precision    recall  f1-score   support\n",
            "\n",
            "           0       0.58      0.40      0.47       100\n",
            "           1       0.54      0.71      0.61       100\n",
            "\n",
            "    accuracy                           0.56       200\n",
            "   macro avg       0.56      0.55      0.54       200\n",
            "weighted avg       0.56      0.56      0.54       200\n",
            "\n"
          ]
        }
      ],
      "source": [
        "# Инициализация модели\n",
        "svm_clf = SVC(kernel='rbf', C=1.0, gamma='scale')\n",
        "\n",
        "# Обучение\n",
        "svm_clf.fit(X_train, y_train)\n",
        "\n",
        "# Прогнозирование\n",
        "svm_pred = svm_clf.predict(X_test)\n",
        "\n",
        "# Оценка качества\n",
        "print(\"SVC Accuracy:\", accuracy_score(y_test, svm_pred))\n",
        "print(\"Classification Report:\\n\", classification_report(y_test, svm_pred))"
      ]
    },
    {
      "cell_type": "markdown",
      "metadata": {
        "id": "GAJGDjfrnF3N"
      },
      "source": [
        "## Оптимизация гиперпараметров GradientBoostingClassifier с Optuna"
      ]
    },
    {
      "cell_type": "code",
      "execution_count": 8,
      "metadata": {
        "colab": {
          "base_uri": "https://localhost:8080/"
        },
        "id": "OriTZBPdnF3N",
        "outputId": "a2a7fdbb-88c0-406f-8fda-afe839413d85"
      },
      "outputs": [
        {
          "output_type": "stream",
          "name": "stderr",
          "text": [
            "[I 2025-02-28 12:57:30,603] A new study created in memory with name: no-name-786b99b0-771b-4743-a92d-49aa2ef7d965\n",
            "[I 2025-02-28 12:57:36,851] Trial 0 finished with value: 0.49 and parameters: {'n_estimators': 165, 'max_depth': 12, 'learning_rate': 0.2885006773479773, 'subsample': 0.7546422760761395}. Best is trial 0 with value: 0.49.\n",
            "[I 2025-02-28 12:57:40,472] Trial 1 finished with value: 0.45 and parameters: {'n_estimators': 257, 'max_depth': 8, 'learning_rate': 0.29722336967174146, 'subsample': 0.7838409271506803}. Best is trial 0 with value: 0.49.\n",
            "[I 2025-02-28 12:57:44,026] Trial 2 finished with value: 0.485 and parameters: {'n_estimators': 299, 'max_depth': 7, 'learning_rate': 0.20468840700396954, 'subsample': 0.936330518998355}. Best is trial 0 with value: 0.49.\n",
            "[I 2025-02-28 12:57:47,144] Trial 3 finished with value: 0.48 and parameters: {'n_estimators': 111, 'max_depth': 15, 'learning_rate': 0.21709677897459237, 'subsample': 0.7937578811244131}. Best is trial 0 with value: 0.49.\n",
            "[I 2025-02-28 12:57:52,684] Trial 4 finished with value: 0.49 and parameters: {'n_estimators': 465, 'max_depth': 6, 'learning_rate': 0.08920176993824644, 'subsample': 0.9959847238320542}. Best is trial 0 with value: 0.49.\n",
            "[I 2025-02-28 12:57:53,886] Trial 5 finished with value: 0.51 and parameters: {'n_estimators': 153, 'max_depth': 5, 'learning_rate': 0.024912035774070827, 'subsample': 0.8986538853150094}. Best is trial 5 with value: 0.51.\n",
            "[I 2025-02-28 12:57:55,784] Trial 6 finished with value: 0.46 and parameters: {'n_estimators': 458, 'max_depth': 3, 'learning_rate': 0.030378246157428408, 'subsample': 0.695120868166339}. Best is trial 5 with value: 0.51.\n",
            "[I 2025-02-28 12:57:58,467] Trial 7 finished with value: 0.465 and parameters: {'n_estimators': 316, 'max_depth': 5, 'learning_rate': 0.2971065884203012, 'subsample': 0.9777034786447162}. Best is trial 5 with value: 0.51.\n",
            "[I 2025-02-28 12:58:04,235] Trial 8 finished with value: 0.44 and parameters: {'n_estimators': 324, 'max_depth': 12, 'learning_rate': 0.16938826129751772, 'subsample': 0.6801242224654501}. Best is trial 5 with value: 0.51.\n",
            "[I 2025-02-28 12:58:09,895] Trial 9 finished with value: 0.465 and parameters: {'n_estimators': 436, 'max_depth': 9, 'learning_rate': 0.14190866529543616, 'subsample': 0.6795156928147245}. Best is trial 5 with value: 0.51.\n",
            "[I 2025-02-28 12:58:10,213] Trial 10 finished with value: 0.535 and parameters: {'n_estimators': 61, 'max_depth': 3, 'learning_rate': 0.018459187357140944, 'subsample': 0.8824212383280966}. Best is trial 10 with value: 0.535.\n",
            "[I 2025-02-28 12:58:10,511] Trial 11 finished with value: 0.535 and parameters: {'n_estimators': 55, 'max_depth': 3, 'learning_rate': 0.01329736516139142, 'subsample': 0.9001951502194355}. Best is trial 10 with value: 0.535.\n",
            "[I 2025-02-28 12:58:10,820] Trial 12 finished with value: 0.485 and parameters: {'n_estimators': 56, 'max_depth': 3, 'learning_rate': 0.07830271144581782, 'subsample': 0.8651451730774617}. Best is trial 10 with value: 0.535.\n",
            "[I 2025-02-28 12:58:11,305] Trial 13 finished with value: 0.49 and parameters: {'n_estimators': 93, 'max_depth': 3, 'learning_rate': 0.06972979822968856, 'subsample': 0.8665560836458689}. Best is trial 10 with value: 0.535.\n",
            "[I 2025-02-28 12:58:12,824] Trial 14 finished with value: 0.49 and parameters: {'n_estimators': 195, 'max_depth': 5, 'learning_rate': 0.012722922389127006, 'subsample': 0.843834680418901}. Best is trial 10 with value: 0.535.\n",
            "[I 2025-02-28 12:58:14,159] Trial 15 finished with value: 0.47 and parameters: {'n_estimators': 65, 'max_depth': 10, 'learning_rate': 0.11522115543378614, 'subsample': 0.9258942112926828}. Best is trial 10 with value: 0.535.\n",
            "[I 2025-02-28 12:58:15,799] Trial 16 finished with value: 0.49 and parameters: {'n_estimators': 238, 'max_depth': 4, 'learning_rate': 0.050089658637771026, 'subsample': 0.6055961915893785}. Best is trial 10 with value: 0.535.\n",
            "[I 2025-02-28 12:58:19,602] Trial 17 finished with value: 0.43 and parameters: {'n_estimators': 389, 'max_depth': 6, 'learning_rate': 0.12093188215097948, 'subsample': 0.8293000165345996}. Best is trial 10 with value: 0.535.\n",
            "[I 2025-02-28 12:58:24,189] Trial 18 finished with value: 0.52 and parameters: {'n_estimators': 126, 'max_depth': 15, 'learning_rate': 0.054022622120824704, 'subsample': 0.9427147192914974}. Best is trial 10 with value: 0.535.\n",
            "[I 2025-02-28 12:58:31,445] Trial 19 finished with value: 0.475 and parameters: {'n_estimators': 219, 'max_depth': 11, 'learning_rate': 0.04109248336716477, 'subsample': 0.903718168636307}. Best is trial 10 with value: 0.535.\n",
            "[I 2025-02-28 12:58:32,464] Trial 20 finished with value: 0.47 and parameters: {'n_estimators': 175, 'max_depth': 4, 'learning_rate': 0.010890671090009444, 'subsample': 0.751185173644268}. Best is trial 10 with value: 0.535.\n",
            "[I 2025-02-28 12:58:37,005] Trial 21 finished with value: 0.5 and parameters: {'n_estimators': 119, 'max_depth': 15, 'learning_rate': 0.05559712076886395, 'subsample': 0.9663509694790422}. Best is trial 10 with value: 0.535.\n",
            "[I 2025-02-28 12:58:38,904] Trial 22 finished with value: 0.5 and parameters: {'n_estimators': 54, 'max_depth': 14, 'learning_rate': 0.08777495932378179, 'subsample': 0.9454943664014169}. Best is trial 10 with value: 0.535.\n",
            "[I 2025-02-28 12:58:41,093] Trial 23 finished with value: 0.48 and parameters: {'n_estimators': 128, 'max_depth': 8, 'learning_rate': 0.05175218971761737, 'subsample': 0.8974474169893251}. Best is trial 10 with value: 0.535.\n",
            "[I 2025-02-28 12:58:44,140] Trial 24 finished with value: 0.5 and parameters: {'n_estimators': 94, 'max_depth': 13, 'learning_rate': 0.10722241896488902, 'subsample': 0.8745323645775119}. Best is trial 10 with value: 0.535.\n",
            "[I 2025-02-28 12:58:46,669] Trial 25 finished with value: 0.49 and parameters: {'n_estimators': 135, 'max_depth': 10, 'learning_rate': 0.03558529377866944, 'subsample': 0.8404182898444743}. Best is trial 10 with value: 0.535.\n",
            "[I 2025-02-28 12:58:47,547] Trial 26 finished with value: 0.47 and parameters: {'n_estimators': 72, 'max_depth': 7, 'learning_rate': 0.06275174455262167, 'subsample': 0.9567437393552527}. Best is trial 10 with value: 0.535.\n",
            "[I 2025-02-28 12:58:48,885] Trial 27 finished with value: 0.49 and parameters: {'n_estimators': 196, 'max_depth': 4, 'learning_rate': 0.015350414289968965, 'subsample': 0.9180039734047136}. Best is trial 10 with value: 0.535.\n",
            "[I 2025-02-28 12:58:52,123] Trial 28 finished with value: 0.495 and parameters: {'n_estimators': 104, 'max_depth': 13, 'learning_rate': 0.1606541335321488, 'subsample': 0.991676447598057}. Best is trial 10 with value: 0.535.\n",
            "[I 2025-02-28 12:58:55,926] Trial 29 finished with value: 0.485 and parameters: {'n_estimators': 155, 'max_depth': 11, 'learning_rate': 0.24827078465275704, 'subsample': 0.7581440454746686}. Best is trial 10 with value: 0.535.\n",
            "[I 2025-02-28 12:58:56,714] Trial 30 finished with value: 0.465 and parameters: {'n_estimators': 81, 'max_depth': 6, 'learning_rate': 0.10209142747650837, 'subsample': 0.8211629717065599}. Best is trial 10 with value: 0.535.\n",
            "[I 2025-02-28 12:58:58,012] Trial 31 finished with value: 0.485 and parameters: {'n_estimators': 156, 'max_depth': 5, 'learning_rate': 0.026526904332434688, 'subsample': 0.8853240426497644}. Best is trial 10 with value: 0.535.\n",
            "[I 2025-02-28 12:58:58,777] Trial 32 finished with value: 0.5 and parameters: {'n_estimators': 140, 'max_depth': 3, 'learning_rate': 0.03101572049692605, 'subsample': 0.9162063653136586}. Best is trial 10 with value: 0.535.\n",
            "[I 2025-02-28 12:58:59,390] Trial 33 finished with value: 0.49 and parameters: {'n_estimators': 87, 'max_depth': 4, 'learning_rate': 0.06885725907656443, 'subsample': 0.9448850772346872}. Best is trial 10 with value: 0.535.\n",
            "[I 2025-02-28 12:59:02,704] Trial 34 finished with value: 0.495 and parameters: {'n_estimators': 278, 'max_depth': 7, 'learning_rate': 0.010694341193174464, 'subsample': 0.8895839782351759}. Best is trial 10 with value: 0.535.\n",
            "[I 2025-02-28 12:59:04,230] Trial 35 finished with value: 0.47 and parameters: {'n_estimators': 187, 'max_depth': 5, 'learning_rate': 0.0418705178058741, 'subsample': 0.9351348606981353}. Best is trial 10 with value: 0.535.\n",
            "[I 2025-02-28 12:59:04,518] Trial 36 finished with value: 0.43 and parameters: {'n_estimators': 54, 'max_depth': 3, 'learning_rate': 0.2588547224282315, 'subsample': 0.8550011642775457}. Best is trial 10 with value: 0.535.\n",
            "[I 2025-02-28 12:59:06,428] Trial 37 finished with value: 0.47 and parameters: {'n_estimators': 110, 'max_depth': 8, 'learning_rate': 0.03177143246975507, 'subsample': 0.8195227272052796}. Best is trial 10 with value: 0.535.\n",
            "[I 2025-02-28 12:59:08,036] Trial 38 finished with value: 0.485 and parameters: {'n_estimators': 221, 'max_depth': 4, 'learning_rate': 0.188214927970293, 'subsample': 0.8000457393093928}. Best is trial 10 with value: 0.535.\n",
            "[I 2025-02-28 12:59:09,380] Trial 39 finished with value: 0.465 and parameters: {'n_estimators': 134, 'max_depth': 6, 'learning_rate': 0.027551760220964335, 'subsample': 0.9042008241693085}. Best is trial 10 with value: 0.535.\n",
            "[I 2025-02-28 12:59:10,743] Trial 40 finished with value: 0.495 and parameters: {'n_estimators': 161, 'max_depth': 5, 'learning_rate': 0.13102314764591608, 'subsample': 0.9653793811841416}. Best is trial 10 with value: 0.535.\n",
            "[I 2025-02-28 12:59:16,025] Trial 41 finished with value: 0.505 and parameters: {'n_estimators': 118, 'max_depth': 15, 'learning_rate': 0.05477582117697734, 'subsample': 0.9727767888146711}. Best is trial 10 with value: 0.535.\n",
            "[I 2025-02-28 12:59:19,342] Trial 42 finished with value: 0.53 and parameters: {'n_estimators': 82, 'max_depth': 14, 'learning_rate': 0.08369213795983345, 'subsample': 0.9975579430717174}. Best is trial 10 with value: 0.535.\n",
            "[I 2025-02-28 12:59:22,232] Trial 43 finished with value: 0.47 and parameters: {'n_estimators': 76, 'max_depth': 14, 'learning_rate': 0.08999942129006609, 'subsample': 0.9941013883485535}. Best is trial 10 with value: 0.535.\n",
            "[I 2025-02-28 12:59:23,849] Trial 44 finished with value: 0.495 and parameters: {'n_estimators': 50, 'max_depth': 14, 'learning_rate': 0.07693862066854246, 'subsample': 0.9310250727045446}. Best is trial 10 with value: 0.535.\n",
            "[I 2025-02-28 12:59:26,911] Trial 45 finished with value: 0.465 and parameters: {'n_estimators': 105, 'max_depth': 13, 'learning_rate': 0.023010300592575635, 'subsample': 0.9984729782724218}. Best is trial 10 with value: 0.535.\n",
            "[I 2025-02-28 12:59:30,354] Trial 46 finished with value: 0.505 and parameters: {'n_estimators': 85, 'max_depth': 15, 'learning_rate': 0.04532231765272224, 'subsample': 0.9489379829024084}. Best is trial 10 with value: 0.535.\n",
            "[I 2025-02-28 12:59:30,840] Trial 47 finished with value: 0.485 and parameters: {'n_estimators': 66, 'max_depth': 3, 'learning_rate': 0.06442179318836108, 'subsample': 0.9801775596631246}. Best is trial 10 with value: 0.535.\n",
            "[I 2025-02-28 12:59:39,503] Trial 48 finished with value: 0.475 and parameters: {'n_estimators': 337, 'max_depth': 12, 'learning_rate': 0.08818679470260943, 'subsample': 0.871089097628314}. Best is trial 10 with value: 0.535.\n",
            "[I 2025-02-28 12:59:40,289] Trial 49 finished with value: 0.485 and parameters: {'n_estimators': 150, 'max_depth': 3, 'learning_rate': 0.02107381440614722, 'subsample': 0.9141750734639321}. Best is trial 10 with value: 0.535.\n"
          ]
        },
        {
          "output_type": "stream",
          "name": "stdout",
          "text": [
            "Лучшее качество: 0.535\n",
            "Лучшие гиперпараметры: {'n_estimators': 61, 'max_depth': 3, 'learning_rate': 0.018459187357140944, 'subsample': 0.8824212383280966}\n"
          ]
        }
      ],
      "source": [
        "def objective(trial):\n",
        "    # Определение гиперпараметров для оптимизации\n",
        "    n_estimators = trial.suggest_int('n_estimators', 50, 500)\n",
        "    max_depth = trial.suggest_int('max_depth', 3, 15)\n",
        "    learning_rate = trial.suggest_float('learning_rate', 0.01, 0.3)\n",
        "    subsample = trial.suggest_float('subsample', 0.6, 1.0)\n",
        "\n",
        "    # Инициализация модели\n",
        "    model = GradientBoostingClassifier(\n",
        "        n_estimators=n_estimators,\n",
        "        max_depth=max_depth,\n",
        "        learning_rate=learning_rate,\n",
        "        subsample=subsample,\n",
        "        random_state=42\n",
        "    )\n",
        "\n",
        "    # Кросс-валидация\n",
        "    model.fit(X_train, y_train)\n",
        "    y_pred = model.predict(X_test)\n",
        "    accuracy = accuracy_score(y_test, y_pred)\n",
        "    return accuracy\n",
        "\n",
        "# Запуск оптимизации\n",
        "study = optuna.create_study(direction='maximize')\n",
        "study.optimize(objective, n_trials=50)\n",
        "\n",
        "# Лучшие параметры\n",
        "print(\"Лучшее качество:\", study.best_value)\n",
        "print(\"Лучшие гиперпараметры:\", study.best_params)"
      ]
    },
    {
      "cell_type": "markdown",
      "metadata": {
        "id": "RXV_3a11nF3N"
      },
      "source": [
        "## Выводы\n",
        "1. **SVC** показал базовую точность на синтетических данных\n",
        "2. **Optuna** позволил найти оптимальные гиперпараметры для GradientBoostingClassifier\n",
        "3. Улучшение точности на тестовой выборке составило ~X% после оптимизации\n",
        "4. Параметр `gamma` в SVC имеет критическое влияние на обобщение модели"
      ]
    }
  ],
  "metadata": {
    "kernelspec": {
      "display_name": "Python 3",
      "language": "python",
      "name": "python3"
    },
    "colab": {
      "provenance": []
    }
  },
  "nbformat": 4,
  "nbformat_minor": 0
}